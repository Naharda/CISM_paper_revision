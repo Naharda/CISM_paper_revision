{
 "cells": [
  {
   "cell_type": "code",
   "execution_count": 7,
   "id": "2833442e",
   "metadata": {},
   "outputs": [],
   "source": [
    "import pandas as pd\n",
    "import numpy as np\n",
    "import sys\n",
    "sys.path.append('CISM')  # Replace with the actual path\n",
    "from CISM.cism.graph.create_formatted_graph import GraphBuilder\n",
    "import os\n",
    "import pathlib"
   ]
  },
  {
   "cell_type": "code",
   "execution_count": 41,
   "id": "99df3c5d",
   "metadata": {},
   "outputs": [],
   "source": [
    "DATA_DIR = '/sise/assafzar-group/assafzar/Datasets'\n",
    "raw_csv_file = os.path.join(DATA_DIR, 'CRC_cells.csv')\n",
    "raw_patient_class_file = os.path.join(DATA_DIR, 'CRC_patient_class.csv')\n",
    "root_data_dir =  './'\n",
    "output_graphs_dir = 'CRC_graphs/'\n",
    "\n",
    "FANMOD_path = '/sise/assafzar-group/assafzar/FANMODPlus/Binary'\n",
    "FANMOD_exe = 'LocalFANMOD'\n",
    "output_dir = './FANMOD_output/'\n",
    "cache_dir = './FANMOD_cache/'\n"
   ]
  },
  {
   "cell_type": "code",
   "execution_count": 43,
   "id": "4b2b2ab4",
   "metadata": {},
   "outputs": [
    {
     "data": {
      "text/html": [
       "<div>\n",
       "<style scoped>\n",
       "    .dataframe tbody tr th:only-of-type {\n",
       "        vertical-align: middle;\n",
       "    }\n",
       "\n",
       "    .dataframe tbody tr th {\n",
       "        vertical-align: top;\n",
       "    }\n",
       "\n",
       "    .dataframe thead th {\n",
       "        text-align: right;\n",
       "    }\n",
       "</style>\n",
       "<table border=\"1\" class=\"dataframe\">\n",
       "  <thead>\n",
       "    <tr style=\"text-align: right;\">\n",
       "      <th></th>\n",
       "      <th>cellID</th>\n",
       "      <th>fov</th>\n",
       "      <th>centroid_x</th>\n",
       "      <th>centroid_y</th>\n",
       "      <th>class</th>\n",
       "    </tr>\n",
       "  </thead>\n",
       "  <tbody>\n",
       "    <tr>\n",
       "      <th>0</th>\n",
       "      <td>1</td>\n",
       "      <td>P01_A_FOV1</td>\n",
       "      <td>1000.731481</td>\n",
       "      <td>5.657407</td>\n",
       "      <td>Stroma</td>\n",
       "    </tr>\n",
       "    <tr>\n",
       "      <th>1</th>\n",
       "      <td>2</td>\n",
       "      <td>P01_A_FOV1</td>\n",
       "      <td>558.966851</td>\n",
       "      <td>7.392265</td>\n",
       "      <td>Macrophage</td>\n",
       "    </tr>\n",
       "    <tr>\n",
       "      <th>2</th>\n",
       "      <td>3</td>\n",
       "      <td>P01_A_FOV1</td>\n",
       "      <td>1451.308707</td>\n",
       "      <td>7.693931</td>\n",
       "      <td>CD4T</td>\n",
       "    </tr>\n",
       "    <tr>\n",
       "      <th>3</th>\n",
       "      <td>4</td>\n",
       "      <td>P01_A_FOV1</td>\n",
       "      <td>1475.332288</td>\n",
       "      <td>8.376176</td>\n",
       "      <td>Neuron</td>\n",
       "    </tr>\n",
       "    <tr>\n",
       "      <th>4</th>\n",
       "      <td>5</td>\n",
       "      <td>P01_A_FOV1</td>\n",
       "      <td>659.990354</td>\n",
       "      <td>11.832797</td>\n",
       "      <td>Macrophage</td>\n",
       "    </tr>\n",
       "  </tbody>\n",
       "</table>\n",
       "</div>"
      ],
      "text/plain": [
       "   cellID         fov   centroid_x  centroid_y       class\n",
       "0       1  P01_A_FOV1  1000.731481    5.657407      Stroma\n",
       "1       2  P01_A_FOV1   558.966851    7.392265  Macrophage\n",
       "2       3  P01_A_FOV1  1451.308707    7.693931        CD4T\n",
       "3       4  P01_A_FOV1  1475.332288    8.376176      Neuron\n",
       "4       5  P01_A_FOV1   659.990354   11.832797  Macrophage"
      ]
     },
     "execution_count": 43,
     "metadata": {},
     "output_type": "execute_result"
    }
   ],
   "source": [
    "data = pd.read_csv(raw_csv_file)\n",
    "relevant_columns = [\"cellID\", 'fov','centroid_x', 'centroid_y','class']\n",
    "data = data[relevant_columns]\n",
    "data.head()"
   ]
  },
  {
   "cell_type": "code",
   "execution_count": 44,
   "id": "c4cd6387",
   "metadata": {},
   "outputs": [],
   "source": [
    "cell_types = data['class'].unique()\n"
   ]
  },
  {
   "cell_type": "code",
   "execution_count": 45,
   "id": "56f83e6e",
   "metadata": {},
   "outputs": [
    {
     "data": {
      "text/html": [
       "<div>\n",
       "<style scoped>\n",
       "    .dataframe tbody tr th:only-of-type {\n",
       "        vertical-align: middle;\n",
       "    }\n",
       "\n",
       "    .dataframe tbody tr th {\n",
       "        vertical-align: top;\n",
       "    }\n",
       "\n",
       "    .dataframe thead th {\n",
       "        text-align: right;\n",
       "    }\n",
       "</style>\n",
       "<table border=\"1\" class=\"dataframe\">\n",
       "  <thead>\n",
       "    <tr style=\"text-align: right;\">\n",
       "      <th></th>\n",
       "      <th>cellID</th>\n",
       "      <th>fov</th>\n",
       "      <th>centroid_x</th>\n",
       "      <th>centroid_y</th>\n",
       "      <th>class</th>\n",
       "    </tr>\n",
       "  </thead>\n",
       "  <tbody>\n",
       "    <tr>\n",
       "      <th>0</th>\n",
       "      <td>1</td>\n",
       "      <td>P01_A_FOV1</td>\n",
       "      <td>1000.731481</td>\n",
       "      <td>5.657407</td>\n",
       "      <td>Stroma</td>\n",
       "    </tr>\n",
       "    <tr>\n",
       "      <th>1</th>\n",
       "      <td>2</td>\n",
       "      <td>P01_A_FOV1</td>\n",
       "      <td>558.966851</td>\n",
       "      <td>7.392265</td>\n",
       "      <td>Macrophage</td>\n",
       "    </tr>\n",
       "    <tr>\n",
       "      <th>2</th>\n",
       "      <td>3</td>\n",
       "      <td>P01_A_FOV1</td>\n",
       "      <td>1451.308707</td>\n",
       "      <td>7.693931</td>\n",
       "      <td>CD4T</td>\n",
       "    </tr>\n",
       "    <tr>\n",
       "      <th>3</th>\n",
       "      <td>4</td>\n",
       "      <td>P01_A_FOV1</td>\n",
       "      <td>1475.332288</td>\n",
       "      <td>8.376176</td>\n",
       "      <td>Neuron</td>\n",
       "    </tr>\n",
       "    <tr>\n",
       "      <th>4</th>\n",
       "      <td>5</td>\n",
       "      <td>P01_A_FOV1</td>\n",
       "      <td>659.990354</td>\n",
       "      <td>11.832797</td>\n",
       "      <td>Macrophage</td>\n",
       "    </tr>\n",
       "  </tbody>\n",
       "</table>\n",
       "</div>"
      ],
      "text/plain": [
       "   cellID         fov   centroid_x  centroid_y       class\n",
       "0       1  P01_A_FOV1  1000.731481    5.657407      Stroma\n",
       "1       2  P01_A_FOV1   558.966851    7.392265  Macrophage\n",
       "2       3  P01_A_FOV1  1451.308707    7.693931        CD4T\n",
       "3       4  P01_A_FOV1  1475.332288    8.376176      Neuron\n",
       "4       5  P01_A_FOV1   659.990354   11.832797  Macrophage"
      ]
     },
     "execution_count": 45,
     "metadata": {},
     "output_type": "execute_result"
    }
   ],
   "source": [
    "data[relevant_columns].head()"
   ]
  },
  {
   "cell_type": "code",
   "execution_count": 46,
   "id": "c782e368",
   "metadata": {},
   "outputs": [
    {
     "data": {
      "text/html": [
       "<div>\n",
       "<style scoped>\n",
       "    .dataframe tbody tr th:only-of-type {\n",
       "        vertical-align: middle;\n",
       "    }\n",
       "\n",
       "    .dataframe tbody tr th {\n",
       "        vertical-align: top;\n",
       "    }\n",
       "\n",
       "    .dataframe thead th {\n",
       "        text-align: right;\n",
       "    }\n",
       "</style>\n",
       "<table border=\"1\" class=\"dataframe\">\n",
       "  <thead>\n",
       "    <tr style=\"text-align: right;\">\n",
       "      <th></th>\n",
       "      <th>patient_id</th>\n",
       "      <th>fov</th>\n",
       "      <th>cell_id</th>\n",
       "      <th>centroid-0</th>\n",
       "      <th>centroid-1</th>\n",
       "      <th>class</th>\n",
       "    </tr>\n",
       "  </thead>\n",
       "  <tbody>\n",
       "    <tr>\n",
       "      <th>0</th>\n",
       "      <td>1</td>\n",
       "      <td>1</td>\n",
       "      <td>1</td>\n",
       "      <td>1000.731481</td>\n",
       "      <td>5.657407</td>\n",
       "      <td>Stroma</td>\n",
       "    </tr>\n",
       "    <tr>\n",
       "      <th>1</th>\n",
       "      <td>1</td>\n",
       "      <td>1</td>\n",
       "      <td>2</td>\n",
       "      <td>558.966851</td>\n",
       "      <td>7.392265</td>\n",
       "      <td>Macrophage</td>\n",
       "    </tr>\n",
       "    <tr>\n",
       "      <th>2</th>\n",
       "      <td>1</td>\n",
       "      <td>1</td>\n",
       "      <td>3</td>\n",
       "      <td>1451.308707</td>\n",
       "      <td>7.693931</td>\n",
       "      <td>CD4T</td>\n",
       "    </tr>\n",
       "    <tr>\n",
       "      <th>3</th>\n",
       "      <td>1</td>\n",
       "      <td>1</td>\n",
       "      <td>4</td>\n",
       "      <td>1475.332288</td>\n",
       "      <td>8.376176</td>\n",
       "      <td>Neuron</td>\n",
       "    </tr>\n",
       "    <tr>\n",
       "      <th>4</th>\n",
       "      <td>1</td>\n",
       "      <td>1</td>\n",
       "      <td>5</td>\n",
       "      <td>659.990354</td>\n",
       "      <td>11.832797</td>\n",
       "      <td>Macrophage</td>\n",
       "    </tr>\n",
       "  </tbody>\n",
       "</table>\n",
       "</div>"
      ],
      "text/plain": [
       "   patient_id  fov  cell_id   centroid-0  centroid-1       class\n",
       "0           1    1        1  1000.731481    5.657407      Stroma\n",
       "1           1    1        2   558.966851    7.392265  Macrophage\n",
       "2           1    1        3  1451.308707    7.693931        CD4T\n",
       "3           1    1        4  1475.332288    8.376176      Neuron\n",
       "4           1    1        5   659.990354   11.832797  Macrophage"
      ]
     },
     "execution_count": 46,
     "metadata": {},
     "output_type": "execute_result"
    }
   ],
   "source": [
    "def extract_patient_id(fov):\n",
    "    return int(fov.split('_')[0][1:])\n",
    "\n",
    "def extract_fov_number(fov):\n",
    "    return int(fov.split('_')[2][3:])\n",
    "try:\n",
    "    data['patient_id'] = data['fov'].apply(extract_patient_id)\n",
    "    data['fov'] = data['fov'].apply(extract_fov_number)\n",
    "    data.rename(columns={'cellID': 'cell_id','centroid_x':'centroid-0','centroid_y':'centroid-1'}, inplace=True)\n",
    "except:\n",
    "    pass\n",
    "data = data[['patient_id','fov','cell_id','centroid-0','centroid-1','class']]\n",
    "data.head()"
   ]
  },
  {
   "cell_type": "code",
   "execution_count": 47,
   "id": "9e5a6cde",
   "metadata": {},
   "outputs": [
    {
     "name": "stdout",
     "output_type": "stream",
     "text": [
      "{'Bcell': 0, 'CD3T': 1, 'CD4T': 2, 'CD8T': 3, 'DC': 4, 'Endothelial': 5, 'Fibroblast': 6, 'Lymphatic': 7, 'Macrophage': 8, 'Neuron': 9, 'Neutrophil': 10, 'Plasma': 11, 'SMV': 12, 'Stroma': 13, 'Treg': 14, 'Tumor': 15, 'Unidentified': 16}\n"
     ]
    }
   ],
   "source": [
    "cell_mapper = {cell_type: cell_type for cell_type in cell_types} \n",
    "colnames_mapper_dict = {'cell_types' : 'class', #here we configure which column holds the information of cell type\n",
    "                        'patient_id' : 'patient_id'}\n",
    "\n",
    "g = GraphBuilder(data,cell_mapper, colnames_mapper_dict)\n",
    "\n",
    "g.build_graph(path_to_output_dir=root_data_dir + output_graphs_dir, \n",
    "              #50 µm - the maximum distance between cells to be considered neighbours. \n",
    "              #The paramter value is 100 since the resolution is 0.5 µm.\n",
    "              max_distance=100,\n",
    "              exclude_cell_type=None)"
   ]
  },
  {
   "cell_type": "code",
   "execution_count": 48,
   "id": "d3a80990",
   "metadata": {},
   "outputs": [],
   "source": [
    "\n",
    "assert pathlib.Path(FANMOD_path + \"//\" + FANMOD_exe).exists(), \"FANMOD executable not found\""
   ]
  },
  {
   "cell_type": "code",
   "execution_count": 49,
   "id": "c43738a8",
   "metadata": {},
   "outputs": [],
   "source": [
    "from CISM.cism.cism import CISM"
   ]
  },
  {
   "cell_type": "code",
   "execution_count": 51,
   "id": "25901855",
   "metadata": {},
   "outputs": [
    {
     "name": "stdout",
     "output_type": "stream",
     "text": [
      " 95% [|||||||||||||||||||||||||||||||||||||||||||||||||||||||||   ]"
     ]
    },
    {
     "data": {
      "application/vnd.jupyter.widget-view+json": {
       "model_id": "1e6397a114544ce8968e8d3266fae57b",
       "version_major": 2,
       "version_minor": 0
      },
      "text/plain": [
       "  0%|          | 0/35 [00:00<?, ?it/s]"
      ]
     },
     "metadata": {},
     "output_type": "display_data"
    },
    {
     "name": "stdout",
     "output_type": "stream",
     "text": [
      "/sise/assafzar-group/assafzar/FANMODPlus/Binary/LocalFANMOD -i ./CRC_graphs//Patient_9_FOV17.txt -o ./FANMOD_output/CRC_graphs//3//9_FOV17.csv -r 1000 -s 3 --colored_vertcies\n",
      "/sise/assafzar-group/assafzar/FANMODPlus/Binary/LocalFANMOD -i ./CRC_graphs//Patient_19_FOV37.txt -o ./FANMOD_output/CRC_graphs//3//19_FOV37.csv -r 1000 -s 3 --colored_vertcies\n",
      "/sise/assafzar-group/assafzar/FANMODPlus/Binary/LocalFANMOD -i ./CRC_graphs//Patient_14_FOV27.txt -o ./FANMOD_output/CRC_graphs//3//14_FOV27.csv -r 1000 -s 3 --colored_vertcies\n",
      "/sise/assafzar-group/assafzar/FANMODPlus/Binary/LocalFANMOD -i ./CRC_graphs//Patient_21_FOV41.txt -o ./FANMOD_output/CRC_graphs//3//21_FOV41.csv -r 1000 -s 3 --colored_vertcies\n",
      "/sise/assafzar-group/assafzar/FANMODPlus/Binary/LocalFANMOD -i ./CRC_graphs//Patient_15_FOV29.txt -o ./FANMOD_output/CRC_graphs//3//15_FOV29.csv -r 1000 -s 3 --colored_vertcies\n",
      "/sise/assafzar-group/assafzar/FANMODPlus/Binary/LocalFANMOD -i ./CRC_graphs//Patient_31_FOV61.txt -o ./FANMOD_output/CRC_graphs//3//31_FOV61.csv -r 1000 -s 3 --colored_vertcies\n",
      "/sise/assafzar-group/assafzar/FANMODPlus/Binary/LocalFANMOD -i ./CRC_graphs//Patient_20_FOV39.txt -o ./FANMOD_output/CRC_graphs//3//20_FOV39.csv -r 1000 -s 3 --colored_vertcies\n",
      "/sise/assafzar-group/assafzar/FANMODPlus/Binary/LocalFANMOD -i ./CRC_graphs//Patient_35_FOV69.txt -o ./FANMOD_output/CRC_graphs//3//35_FOV69.csv -r 1000 -s 3 --colored_vertcies\n",
      "/sise/assafzar-group/assafzar/FANMODPlus/Binary/LocalFANMOD -i ./CRC_graphs//Patient_16_FOV31.txt -o ./FANMOD_output/CRC_graphs//3//16_FOV31.csv -r 1000 -s 3 --colored_vertcies\n",
      "/sise/assafzar-group/assafzar/FANMODPlus/Binary/LocalFANMOD -i ./CRC_graphs//Patient_29_FOV58.txt -o ./FANMOD_output/CRC_graphs//3//29_FOV58.csv -r 1000 -s 3 --colored_vertcies\n",
      "/sise/assafzar-group/assafzar/FANMODPlus/Binary/LocalFANMOD -i ./CRC_graphs//Patient_4_FOV7.txt -o ./FANMOD_output/CRC_graphs//3//4_FOV7.csv -r 1000 -s 3 --colored_vertcies\n",
      "/sise/assafzar-group/assafzar/FANMODPlus/Binary/LocalFANMOD -i ./CRC_graphs//Patient_26_FOV51.txt -o ./FANMOD_output/CRC_graphs//3//26_FOV51.csv -r 1000 -s 3 --colored_vertcies\n",
      " 95% [|||||||||||||||||||||||||||||||||||||||||||||||||||||||||   ]Approximate number of subgraphs: 19120 (based on 100000 samples)\n",
      "20419 subgraphs were enumerated in the original network.\n",
      "  0% [                                                            ]Approximate number of subgraphs: 30954 (based on 100000 samples)\n",
      "31930 subgraphs were enumerated in the original network.\n",
      "  0% [                                                            ]Approximate number of subgraphs: 11961 (based on 100000 samples)\n",
      "13221 subgraphs were enumerated in the original network.\n",
      "  0% [                                                            ]Approximate number of subgraphs: 20580 (based on 100000 samples)\n",
      "22528 subgraphs were enumerated in the original network.\n",
      "  0% [                                                            ]Approximate number of subgraphs: 35464 (based on 100000 samples)\n",
      "36503 subgraphs were enumerated in the original network.\n",
      "  0% [                                                            ]Approximate number of subgraphs: 23880 (based on 100000 samples)\n",
      "26096 subgraphs were enumerated in the original network.\n",
      "  0% [                                                            ]Approximate number of subgraphs: 27599 (based on 100000 samples)\n",
      "27782 subgraphs were enumerated in the original network.\n",
      "  0% [                                                            ]Approximate number of subgraphs: 22616 (based on 100000 samples)\n",
      "22754 subgraphs were enumerated in the original network.\n",
      "  0% [                                                            ]Approximate number of subgraphs: 40832 (based on 100000 samples)\n",
      "42076 subgraphs were enumerated in the original network.\n",
      "  0% [                                                            ]Approximate number of subgraphs: 35134 (based on 100000 samples)\n",
      "36048 subgraphs were enumerated in the original network.\n",
      "  0% [                                                            ]Approximate number of subgraphs: 40337 (based on 100000 samples)\n",
      "40660 subgraphs were enumerated in the original network.\n",
      "  0% [                                                            ]Approximate number of subgraphs: 42471 (based on 100000 samples)\n",
      "43402 subgraphs were enumerated in the original network.\n",
      " 33% [|||||||||||||||||||                                         ]/sise/assafzar-group/assafzar/FANMODPlus/Binary/LocalFANMOD -i ./CRC_graphs//Patient_34_FOV67.txt -o ./FANMOD_output/CRC_graphs//3//34_FOV67.csv -r 1000 -s 3 --colored_vertcies\n",
      " 44% [||||||||||||||||||||||||||                                  ]Approximate number of subgraphs: 6536 (based on 100000 samples)\n",
      "6881 subgraphs were enumerated in the original network.\n",
      " 56% [|||||||||||||||||||||||||||||||||                           ]/sise/assafzar-group/assafzar/FANMODPlus/Binary/LocalFANMOD -i ./CRC_graphs//Patient_8_FOV15.txt -o ./FANMOD_output/CRC_graphs//3//8_FOV15.csv -r 1000 -s 3 --colored_vertcies\n",
      " 53% [||||||||||||||||||||||||||||||||                            ]Approximate number of subgraphs: 33737 (based on 100000 samples)\n",
      "34478 subgraphs were enumerated in the original network.\n",
      " 64% [||||||||||||||||||||||||||||||||||||||                      ]/sise/assafzar-group/assafzar/FANMODPlus/Binary/LocalFANMOD -i ./CRC_graphs//Patient_7_FOV13.txt -o ./FANMOD_output/CRC_graphs//3//7_FOV13.csv -r 1000 -s 3 --colored_vertcies\n",
      " 64% [||||||||||||||||||||||||||||||||||||||                      ]Approximate number of subgraphs: 20560 (based on 100000 samples)\n",
      "22519 subgraphs were enumerated in the original network.\n",
      " 13% [|||||||                                                     ]/sise/assafzar-group/assafzar/FANMODPlus/Binary/LocalFANMOD -i ./CRC_graphs//Patient_24_FOV47.txt -o ./FANMOD_output/CRC_graphs//3//24_FOV47.csv -r 1000 -s 3 --colored_vertcies\n",
      " 98% [||||||||||||||||||||||||||||||||||||||||||||||||||||||||||| ]Approximate number of subgraphs: 30888 (based on 100000 samples)\n",
      "31169 subgraphs were enumerated in the original network.\n",
      " 12% [|||||||                                                     ]/sise/assafzar-group/assafzar/FANMODPlus/Binary/LocalFANMOD -i ./CRC_graphs//Patient_11_FOV21.txt -o ./FANMOD_output/CRC_graphs//3//11_FOV21.csv -r 1000 -s 3 --colored_vertcies\n",
      " 95% [|||||||||||||||||||||||||||||||||||||||||||||||||||||||||   ]Approximate number of subgraphs: 35981 (based on 100000 samples)\n",
      "36288 subgraphs were enumerated in the original network.\n",
      "  3% [|                                                           ]/sise/assafzar-group/assafzar/FANMODPlus/Binary/LocalFANMOD -i ./CRC_graphs//Patient_25_FOV49.txt -o ./FANMOD_output/CRC_graphs//3//25_FOV49.csv -r 1000 -s 3 --colored_vertcies\n",
      " 61% [|||||||||||||||||||||||||||||||||||||                       ]Approximate number of subgraphs: 32087 (based on 100000 samples)\n",
      "32974 subgraphs were enumerated in the original network.\n",
      "  7% [||||                                                        ]/sise/assafzar-group/assafzar/FANMODPlus/Binary/LocalFANMOD -i ./CRC_graphs//Patient_5_FOV9.txt -o ./FANMOD_output/CRC_graphs//3//5_FOV9.csv -r 1000 -s 3 --colored_vertcies\n",
      " 10% [||||||                                                      ]Approximate number of subgraphs: 31702 (based on 100000 samples)\n",
      "32653 subgraphs were enumerated in the original network.\n",
      " 99% [||||||||||||||||||||||||||||||||||||||||||||||||||||||||||| ]"
     ]
    },
    {
     "data": {
      "application/vnd.jupyter.widget-view+json": {
       "model_id": "ed47f91af8db4c62bc4c95c899f6c964",
       "version_major": 2,
       "version_minor": 0
      },
      "text/plain": [
       "  0%|          | 0/35 [00:00<?, ?it/s]"
      ]
     },
     "metadata": {},
     "output_type": "display_data"
    },
    {
     "name": "stdout",
     "output_type": "stream",
     "text": [
      "parse csv: ./FANMOD_output/CRC_graphs//3/17_FOV33.csv patient_num: 17, FOV: FOV33\n",
      "parse csv: ./FANMOD_output/CRC_graphs//3/3_FOV5.csv patient_num: 3, FOV: FOV5\n",
      "parse csv: ./FANMOD_output/CRC_graphs//3/22_FOV43.csv patient_num: 22, FOV: FOV43\n",
      "parse csv: ./FANMOD_output/CRC_graphs//3/10_FOV19.csv patient_num: 10, FOV: FOV19\n",
      "parse csv: ./FANMOD_output/CRC_graphs//3/12_FOV23.csv patient_num: 12, FOV: FOV23\n",
      "parse csv: ./FANMOD_output/CRC_graphs//3/13_FOV25.csv patient_num: 13, FOV: FOV25\n",
      "parse csv: ./FANMOD_output/CRC_graphs//3/33_FOV65.csv patient_num: 33, FOV: FOV65\n",
      "parse csv: ./FANMOD_output/CRC_graphs//3/32_FOV63.csv patient_num: 32, FOV: FOV63\n",
      "parse csv: ./FANMOD_output/CRC_graphs//3/2_FOV3.csv patient_num: 2, FOV: FOV3\n",
      "parse csv: ./FANMOD_output/CRC_graphs//3/30_FOV59.csv patient_num: 30, FOV: FOV59\n",
      "parse csv: ./FANMOD_output/CRC_graphs//3/6_FOV11.csv patient_num: 6, FOV: FOV11\n",
      "parse csv: ./FANMOD_output/CRC_graphs//3/18_FOV35.csv patient_num: 18, FOV: FOV35\n",
      "parse csv: ./FANMOD_output/CRC_graphs//3/28_FOV55.csv patient_num: 28, FOV: FOV55\n",
      "parse csv: ./FANMOD_output/CRC_graphs//3/23_FOV45.csv patient_num: 23, FOV: FOV45\n",
      "parse csv: ./FANMOD_output/CRC_graphs//3/1_FOV1.csv patient_num: 1, FOV: FOV1\n",
      "parse csv: ./FANMOD_output/CRC_graphs//3/27_FOV54.csv patient_num: 27, FOV: FOV54\n",
      "parse csv: ./FANMOD_output/CRC_graphs//3/20_FOV39.csv patient_num: 20, FOV: FOV39\n",
      "parse csv: ./FANMOD_output/CRC_graphs//3/9_FOV17.csv patient_num: 9, FOV: FOV17\n",
      "parse csv: ./FANMOD_output/CRC_graphs//3/19_FOV37.csv patient_num: 19, FOV: FOV37\n",
      "parse csv: ./FANMOD_output/CRC_graphs//3/14_FOV27.csv patient_num: 14, FOV: FOV27\n",
      "parse csv: ./FANMOD_output/CRC_graphs//3/15_FOV29.csv patient_num: 15, FOV: FOV29\n",
      "parse csv: ./FANMOD_output/CRC_graphs//3/21_FOV41.csv patient_num: 21, FOV: FOV41\n",
      "parse csv: ./FANMOD_output/CRC_graphs//3/4_FOV7.csv patient_num: 4, FOV: FOV7\n",
      "parse csv: ./FANMOD_output/CRC_graphs//3/31_FOV61.csv patient_num: 31, FOV: FOV61\n",
      "parse csv: ./FANMOD_output/CRC_graphs//3/16_FOV31.csv patient_num: 16, FOV: FOV31\n",
      "parse csv: ./FANMOD_output/CRC_graphs//3/29_FOV58.csv patient_num: 29, FOV: FOV58\n",
      "parse csv: ./FANMOD_output/CRC_graphs//3/35_FOV69.csv patient_num: 35, FOV: FOV69\n",
      "parse csv: ./FANMOD_output/CRC_graphs//3/26_FOV51.csv patient_num: 26, FOV: FOV51\n",
      "parse csv: ./FANMOD_output/CRC_graphs//3/34_FOV67.csv patient_num: 34, FOV: FOV67\n"
     ]
    },
    {
     "ename": "ValueError",
     "evalue": "not enough values to unpack (expected 7, got 1)",
     "output_type": "error",
     "traceback": [
      "\u001b[0;31m---------------------------------------------------------------------------\u001b[0m",
      "\u001b[0;31m_RemoteTraceback\u001b[0m                          Traceback (most recent call last)",
      "\u001b[0;31m_RemoteTraceback\u001b[0m: \n\"\"\"\nTraceback (most recent call last):\n  File \"/home/omriavit/.conda/envs/CISM/lib/python3.9/site-packages/joblib/_utils.py\", line 72, in __call__\n    return self.func(**kwargs)\n  File \"/home/omriavit/.conda/envs/CISM/lib/python3.9/site-packages/joblib/parallel.py\", line 598, in __call__\n    return [func(*args, **kwargs)\n  File \"/home/omriavit/.conda/envs/CISM/lib/python3.9/site-packages/joblib/parallel.py\", line 598, in <listcomp>\n    return [func(*args, **kwargs)\n  File \"/home/omriavit/research/CISM/cism/cism.py\", line 127, in _analyze_dataset\n    return helpers.analyze_file(\n  File \"/home/omriavit/research/CISM/cism/helpers.py\", line 250, in analyze_file\n    df = parse_csv(filepath=result_file, patient_num=patient_num, fov=fov)\n  File \"/home/omriavit/research/CISM/cism/helpers.py\", line 149, in parse_csv\n    sample_id, freq, count, mean_freq, std, z_score, p_value = line.strip().split(',')\nValueError: not enough values to unpack (expected 7, got 1)\n\"\"\"",
      "\nThe above exception was the direct cause of the following exception:\n",
      "\u001b[0;31mValueError\u001b[0m                                Traceback (most recent call last)",
      "Cell \u001b[0;32mIn[51], line 18\u001b[0m\n\u001b[1;32m      8\u001b[0m cism \u001b[38;5;241m=\u001b[39m CISM(fanmod_exe\u001b[38;5;241m=\u001b[39mFANMOD_exe,\n\u001b[1;32m      9\u001b[0m             fanmod_path\u001b[38;5;241m=\u001b[39mFANMOD_path,\n\u001b[1;32m     10\u001b[0m             network_dataset_root_path\u001b[38;5;241m=\u001b[39mroot_data_dir,\n\u001b[0;32m   (...)\u001b[0m\n\u001b[1;32m     13\u001b[0m             motif_size\u001b[38;5;241m=\u001b[39mmotif_size,\n\u001b[1;32m     14\u001b[0m             iterations\u001b[38;5;241m=\u001b[39miterations)\n\u001b[1;32m     17\u001b[0m \u001b[38;5;66;03m# adding the dataset\u001b[39;00m\n\u001b[0;32m---> 18\u001b[0m \u001b[43mcism\u001b[49m\u001b[38;5;241;43m.\u001b[39;49m\u001b[43madd_dataset\u001b[49m\u001b[43m(\u001b[49m\u001b[43moutput_graphs_dir\u001b[49m\u001b[43m,\u001b[49m\u001b[43m \u001b[49m\n\u001b[1;32m     19\u001b[0m \u001b[43m                 \u001b[49m\u001b[38;5;124;43m'\u001b[39;49m\u001b[38;5;124;43mDisease\u001b[39;49m\u001b[38;5;124;43m'\u001b[39;49m\u001b[43m,\u001b[49m\u001b[43m \u001b[49m\n\u001b[1;32m     20\u001b[0m \u001b[43m                 \u001b[49m\u001b[38;5;124;43m'\u001b[39;49m\u001b[38;5;124;43mCRC\u001b[39;49m\u001b[38;5;124;43m'\u001b[39;49m\u001b[43m,\u001b[49m\u001b[43m \u001b[49m\n\u001b[1;32m     21\u001b[0m \u001b[43m                 \u001b[49m\u001b[43mforce_run_fanmod\u001b[49m\u001b[38;5;241;43m=\u001b[39;49m\u001b[38;5;28;43;01mFalse\u001b[39;49;00m\u001b[43m,\u001b[49m\u001b[43m \u001b[49m\n\u001b[1;32m     22\u001b[0m \u001b[43m                 \u001b[49m\u001b[43mforce_parse\u001b[49m\u001b[38;5;241;43m=\u001b[39;49m\u001b[38;5;28;43;01mFalse\u001b[39;49;00m\u001b[43m,\u001b[49m\u001b[43m \u001b[49m\n\u001b[1;32m     23\u001b[0m \u001b[43m                 \u001b[49m\u001b[43mn_jobs\u001b[49m\u001b[38;5;241;43m=\u001b[39;49m\u001b[38;5;241;43m12\u001b[39;49m\u001b[43m)\u001b[49m\n",
      "File \u001b[0;32m~/research/CISM/cism/cism.py:96\u001b[0m, in \u001b[0;36mCISM.add_dataset\u001b[0;34m(self, dataset_folder, dataset_type, dataset_name, **kwargs)\u001b[0m\n\u001b[1;32m     76\u001b[0m Parallel(n_jobs\u001b[38;5;241m=\u001b[39mn_jobs, prefer\u001b[38;5;241m=\u001b[39mprefer)(delayed(\u001b[38;5;28mself\u001b[39m\u001b[38;5;241m.\u001b[39m_analyze_dataset)(\n\u001b[1;32m     77\u001b[0m                                                             file\u001b[38;5;241m=\u001b[39mfile,\n\u001b[1;32m     78\u001b[0m                                                             output_dir\u001b[38;5;241m=\u001b[39m\u001b[38;5;28mself\u001b[39m\u001b[38;5;241m.\u001b[39mfanmod_output_root_path \u001b[38;5;241m+\u001b[39m dataset_folder,\n\u001b[0;32m   (...)\u001b[0m\n\u001b[1;32m     82\u001b[0m                                                             force_parse\u001b[38;5;241m=\u001b[39mforce_parse,\n\u001b[1;32m     83\u001b[0m                                                             enable_parse\u001b[38;5;241m=\u001b[39m\u001b[38;5;28;01mFalse\u001b[39;00m) \u001b[38;5;28;01mfor\u001b[39;00m file \u001b[38;5;129;01min\u001b[39;00m tqdm(files))\n\u001b[1;32m     85\u001b[0m result_list \u001b[38;5;241m=\u001b[39m Parallel(n_jobs\u001b[38;5;241m=\u001b[39mn_jobs, prefer\u001b[38;5;241m=\u001b[39mprefer, return_as\u001b[38;5;241m=\u001b[39m\u001b[38;5;124m\"\u001b[39m\u001b[38;5;124mgenerator\u001b[39m\u001b[38;5;124m\"\u001b[39m)(delayed(\u001b[38;5;28mself\u001b[39m\u001b[38;5;241m.\u001b[39m_analyze_dataset)(\n\u001b[1;32m     86\u001b[0m                                                             file\u001b[38;5;241m=\u001b[39mfile,\n\u001b[1;32m     87\u001b[0m                                                             output_dir\u001b[38;5;241m=\u001b[39m\u001b[38;5;28mself\u001b[39m\u001b[38;5;241m.\u001b[39mfanmod_output_root_path \u001b[38;5;241m+\u001b[39m dataset_folder,\n\u001b[0;32m   (...)\u001b[0m\n\u001b[1;32m     93\u001b[0m                                                             p_value\u001b[38;5;241m=\u001b[39mp_value,\n\u001b[1;32m     94\u001b[0m                                                             quantile_threshold\u001b[38;5;241m=\u001b[39mquantile_threshold) \u001b[38;5;28;01mfor\u001b[39;00m file \u001b[38;5;129;01min\u001b[39;00m tqdm(files))\n\u001b[0;32m---> 96\u001b[0m motifs_dataset \u001b[38;5;241m=\u001b[39m \u001b[43mpd\u001b[49m\u001b[38;5;241;43m.\u001b[39;49m\u001b[43mconcat\u001b[49m\u001b[43m(\u001b[49m\u001b[43mresult_list\u001b[49m\u001b[43m,\u001b[49m\u001b[43m \u001b[49m\u001b[43mignore_index\u001b[49m\u001b[38;5;241;43m=\u001b[39;49m\u001b[38;5;28;43;01mTrue\u001b[39;49;00m\u001b[43m)\u001b[49m\n\u001b[1;32m     97\u001b[0m motifs_dataset[\u001b[38;5;124m'\u001b[39m\u001b[38;5;124mFOV\u001b[39m\u001b[38;5;124m'\u001b[39m] \u001b[38;5;241m=\u001b[39m motifs_dataset[\u001b[38;5;124m'\u001b[39m\u001b[38;5;124mFOV\u001b[39m\u001b[38;5;124m'\u001b[39m]\u001b[38;5;241m.\u001b[39mastype(\u001b[38;5;124m'\u001b[39m\u001b[38;5;124mcategory\u001b[39m\u001b[38;5;124m'\u001b[39m)\n\u001b[1;32m     98\u001b[0m result \u001b[38;5;241m=\u001b[39m \u001b[38;5;28;01mNone\u001b[39;00m\n",
      "File \u001b[0;32m~/.conda/envs/CISM/lib/python3.9/site-packages/pandas/core/reshape/concat.py:372\u001b[0m, in \u001b[0;36mconcat\u001b[0;34m(objs, axis, join, ignore_index, keys, levels, names, verify_integrity, sort, copy)\u001b[0m\n\u001b[1;32m    369\u001b[0m \u001b[38;5;28;01melif\u001b[39;00m copy \u001b[38;5;129;01mand\u001b[39;00m using_copy_on_write():\n\u001b[1;32m    370\u001b[0m     copy \u001b[38;5;241m=\u001b[39m \u001b[38;5;28;01mFalse\u001b[39;00m\n\u001b[0;32m--> 372\u001b[0m op \u001b[38;5;241m=\u001b[39m \u001b[43m_Concatenator\u001b[49m\u001b[43m(\u001b[49m\n\u001b[1;32m    373\u001b[0m \u001b[43m    \u001b[49m\u001b[43mobjs\u001b[49m\u001b[43m,\u001b[49m\n\u001b[1;32m    374\u001b[0m \u001b[43m    \u001b[49m\u001b[43maxis\u001b[49m\u001b[38;5;241;43m=\u001b[39;49m\u001b[43maxis\u001b[49m\u001b[43m,\u001b[49m\n\u001b[1;32m    375\u001b[0m \u001b[43m    \u001b[49m\u001b[43mignore_index\u001b[49m\u001b[38;5;241;43m=\u001b[39;49m\u001b[43mignore_index\u001b[49m\u001b[43m,\u001b[49m\n\u001b[1;32m    376\u001b[0m \u001b[43m    \u001b[49m\u001b[43mjoin\u001b[49m\u001b[38;5;241;43m=\u001b[39;49m\u001b[43mjoin\u001b[49m\u001b[43m,\u001b[49m\n\u001b[1;32m    377\u001b[0m \u001b[43m    \u001b[49m\u001b[43mkeys\u001b[49m\u001b[38;5;241;43m=\u001b[39;49m\u001b[43mkeys\u001b[49m\u001b[43m,\u001b[49m\n\u001b[1;32m    378\u001b[0m \u001b[43m    \u001b[49m\u001b[43mlevels\u001b[49m\u001b[38;5;241;43m=\u001b[39;49m\u001b[43mlevels\u001b[49m\u001b[43m,\u001b[49m\n\u001b[1;32m    379\u001b[0m \u001b[43m    \u001b[49m\u001b[43mnames\u001b[49m\u001b[38;5;241;43m=\u001b[39;49m\u001b[43mnames\u001b[49m\u001b[43m,\u001b[49m\n\u001b[1;32m    380\u001b[0m \u001b[43m    \u001b[49m\u001b[43mverify_integrity\u001b[49m\u001b[38;5;241;43m=\u001b[39;49m\u001b[43mverify_integrity\u001b[49m\u001b[43m,\u001b[49m\n\u001b[1;32m    381\u001b[0m \u001b[43m    \u001b[49m\u001b[43mcopy\u001b[49m\u001b[38;5;241;43m=\u001b[39;49m\u001b[43mcopy\u001b[49m\u001b[43m,\u001b[49m\n\u001b[1;32m    382\u001b[0m \u001b[43m    \u001b[49m\u001b[43msort\u001b[49m\u001b[38;5;241;43m=\u001b[39;49m\u001b[43msort\u001b[49m\u001b[43m,\u001b[49m\n\u001b[1;32m    383\u001b[0m \u001b[43m\u001b[49m\u001b[43m)\u001b[49m\n\u001b[1;32m    385\u001b[0m \u001b[38;5;28;01mreturn\u001b[39;00m op\u001b[38;5;241m.\u001b[39mget_result()\n",
      "File \u001b[0;32m~/.conda/envs/CISM/lib/python3.9/site-packages/pandas/core/reshape/concat.py:426\u001b[0m, in \u001b[0;36m_Concatenator.__init__\u001b[0;34m(self, objs, axis, join, keys, levels, names, ignore_index, verify_integrity, copy, sort)\u001b[0m\n\u001b[1;32m    424\u001b[0m     objs \u001b[38;5;241m=\u001b[39m [objs[k] \u001b[38;5;28;01mfor\u001b[39;00m k \u001b[38;5;129;01min\u001b[39;00m keys]\n\u001b[1;32m    425\u001b[0m \u001b[38;5;28;01melse\u001b[39;00m:\n\u001b[0;32m--> 426\u001b[0m     objs \u001b[38;5;241m=\u001b[39m \u001b[38;5;28;43mlist\u001b[39;49m\u001b[43m(\u001b[49m\u001b[43mobjs\u001b[49m\u001b[43m)\u001b[49m\n\u001b[1;32m    428\u001b[0m \u001b[38;5;28;01mif\u001b[39;00m \u001b[38;5;28mlen\u001b[39m(objs) \u001b[38;5;241m==\u001b[39m \u001b[38;5;241m0\u001b[39m:\n\u001b[1;32m    429\u001b[0m     \u001b[38;5;28;01mraise\u001b[39;00m \u001b[38;5;167;01mValueError\u001b[39;00m(\u001b[38;5;124m\"\u001b[39m\u001b[38;5;124mNo objects to concatenate\u001b[39m\u001b[38;5;124m\"\u001b[39m)\n",
      "File \u001b[0;32m~/.conda/envs/CISM/lib/python3.9/site-packages/joblib/parallel.py:1650\u001b[0m, in \u001b[0;36mParallel._get_outputs\u001b[0;34m(self, iterator, pre_dispatch)\u001b[0m\n\u001b[1;32m   1647\u001b[0m     \u001b[38;5;28;01myield\u001b[39;00m\n\u001b[1;32m   1649\u001b[0m     \u001b[38;5;28;01mwith\u001b[39;00m \u001b[38;5;28mself\u001b[39m\u001b[38;5;241m.\u001b[39m_backend\u001b[38;5;241m.\u001b[39mretrieval_context():\n\u001b[0;32m-> 1650\u001b[0m         \u001b[38;5;28;01myield from\u001b[39;00m \u001b[38;5;28mself\u001b[39m\u001b[38;5;241m.\u001b[39m_retrieve()\n\u001b[1;32m   1652\u001b[0m \u001b[38;5;28;01mexcept\u001b[39;00m \u001b[38;5;167;01mGeneratorExit\u001b[39;00m:\n\u001b[1;32m   1653\u001b[0m     \u001b[38;5;66;03m# The generator has been garbage collected before being fully\u001b[39;00m\n\u001b[1;32m   1654\u001b[0m     \u001b[38;5;66;03m# consumed. This aborts the remaining tasks if possible and warn\u001b[39;00m\n\u001b[1;32m   1655\u001b[0m     \u001b[38;5;66;03m# the user if necessary.\u001b[39;00m\n\u001b[1;32m   1656\u001b[0m     \u001b[38;5;28mself\u001b[39m\u001b[38;5;241m.\u001b[39m_exception \u001b[38;5;241m=\u001b[39m \u001b[38;5;28;01mTrue\u001b[39;00m\n",
      "File \u001b[0;32m~/.conda/envs/CISM/lib/python3.9/site-packages/joblib/parallel.py:1754\u001b[0m, in \u001b[0;36mParallel._retrieve\u001b[0;34m(self)\u001b[0m\n\u001b[1;32m   1747\u001b[0m \u001b[38;5;28;01mwhile\u001b[39;00m \u001b[38;5;28mself\u001b[39m\u001b[38;5;241m.\u001b[39m_wait_retrieval():\n\u001b[1;32m   1748\u001b[0m \n\u001b[1;32m   1749\u001b[0m     \u001b[38;5;66;03m# If the callback thread of a worker has signaled that its task\u001b[39;00m\n\u001b[1;32m   1750\u001b[0m     \u001b[38;5;66;03m# triggered an exception, or if the retrieval loop has raised an\u001b[39;00m\n\u001b[1;32m   1751\u001b[0m     \u001b[38;5;66;03m# exception (e.g. `GeneratorExit`), exit the loop and surface the\u001b[39;00m\n\u001b[1;32m   1752\u001b[0m     \u001b[38;5;66;03m# worker traceback.\u001b[39;00m\n\u001b[1;32m   1753\u001b[0m     \u001b[38;5;28;01mif\u001b[39;00m \u001b[38;5;28mself\u001b[39m\u001b[38;5;241m.\u001b[39m_aborting:\n\u001b[0;32m-> 1754\u001b[0m         \u001b[38;5;28;43mself\u001b[39;49m\u001b[38;5;241;43m.\u001b[39;49m\u001b[43m_raise_error_fast\u001b[49m\u001b[43m(\u001b[49m\u001b[43m)\u001b[49m\n\u001b[1;32m   1755\u001b[0m         \u001b[38;5;28;01mbreak\u001b[39;00m\n\u001b[1;32m   1757\u001b[0m     \u001b[38;5;66;03m# If the next job is not ready for retrieval yet, we just wait for\u001b[39;00m\n\u001b[1;32m   1758\u001b[0m     \u001b[38;5;66;03m# async callbacks to progress.\u001b[39;00m\n",
      "File \u001b[0;32m~/.conda/envs/CISM/lib/python3.9/site-packages/joblib/parallel.py:1789\u001b[0m, in \u001b[0;36mParallel._raise_error_fast\u001b[0;34m(self)\u001b[0m\n\u001b[1;32m   1785\u001b[0m \u001b[38;5;66;03m# If this error job exists, immediately raise the error by\u001b[39;00m\n\u001b[1;32m   1786\u001b[0m \u001b[38;5;66;03m# calling get_result. This job might not exists if abort has been\u001b[39;00m\n\u001b[1;32m   1787\u001b[0m \u001b[38;5;66;03m# called directly or if the generator is gc'ed.\u001b[39;00m\n\u001b[1;32m   1788\u001b[0m \u001b[38;5;28;01mif\u001b[39;00m error_job \u001b[38;5;129;01mis\u001b[39;00m \u001b[38;5;129;01mnot\u001b[39;00m \u001b[38;5;28;01mNone\u001b[39;00m:\n\u001b[0;32m-> 1789\u001b[0m     \u001b[43merror_job\u001b[49m\u001b[38;5;241;43m.\u001b[39;49m\u001b[43mget_result\u001b[49m\u001b[43m(\u001b[49m\u001b[38;5;28;43mself\u001b[39;49m\u001b[38;5;241;43m.\u001b[39;49m\u001b[43mtimeout\u001b[49m\u001b[43m)\u001b[49m\n",
      "File \u001b[0;32m~/.conda/envs/CISM/lib/python3.9/site-packages/joblib/parallel.py:745\u001b[0m, in \u001b[0;36mBatchCompletionCallBack.get_result\u001b[0;34m(self, timeout)\u001b[0m\n\u001b[1;32m    739\u001b[0m backend \u001b[38;5;241m=\u001b[39m \u001b[38;5;28mself\u001b[39m\u001b[38;5;241m.\u001b[39mparallel\u001b[38;5;241m.\u001b[39m_backend\n\u001b[1;32m    741\u001b[0m \u001b[38;5;28;01mif\u001b[39;00m backend\u001b[38;5;241m.\u001b[39msupports_retrieve_callback:\n\u001b[1;32m    742\u001b[0m     \u001b[38;5;66;03m# We assume that the result has already been retrieved by the\u001b[39;00m\n\u001b[1;32m    743\u001b[0m     \u001b[38;5;66;03m# callback thread, and is stored internally. It's just waiting to\u001b[39;00m\n\u001b[1;32m    744\u001b[0m     \u001b[38;5;66;03m# be returned.\u001b[39;00m\n\u001b[0;32m--> 745\u001b[0m     \u001b[38;5;28;01mreturn\u001b[39;00m \u001b[38;5;28;43mself\u001b[39;49m\u001b[38;5;241;43m.\u001b[39;49m\u001b[43m_return_or_raise\u001b[49m\u001b[43m(\u001b[49m\u001b[43m)\u001b[49m\n\u001b[1;32m    747\u001b[0m \u001b[38;5;66;03m# For other backends, the main thread needs to run the retrieval step.\u001b[39;00m\n\u001b[1;32m    748\u001b[0m \u001b[38;5;28;01mtry\u001b[39;00m:\n",
      "File \u001b[0;32m~/.conda/envs/CISM/lib/python3.9/site-packages/joblib/parallel.py:763\u001b[0m, in \u001b[0;36mBatchCompletionCallBack._return_or_raise\u001b[0;34m(self)\u001b[0m\n\u001b[1;32m    761\u001b[0m \u001b[38;5;28;01mtry\u001b[39;00m:\n\u001b[1;32m    762\u001b[0m     \u001b[38;5;28;01mif\u001b[39;00m \u001b[38;5;28mself\u001b[39m\u001b[38;5;241m.\u001b[39mstatus \u001b[38;5;241m==\u001b[39m TASK_ERROR:\n\u001b[0;32m--> 763\u001b[0m         \u001b[38;5;28;01mraise\u001b[39;00m \u001b[38;5;28mself\u001b[39m\u001b[38;5;241m.\u001b[39m_result\n\u001b[1;32m    764\u001b[0m     \u001b[38;5;28;01mreturn\u001b[39;00m \u001b[38;5;28mself\u001b[39m\u001b[38;5;241m.\u001b[39m_result\n\u001b[1;32m    765\u001b[0m \u001b[38;5;28;01mfinally\u001b[39;00m:\n",
      "\u001b[0;31mValueError\u001b[0m: not enough values to unpack (expected 7, got 1)"
     ]
    }
   ],
   "source": [
    "motif_size = 3\n",
    "iterations = 1000\n",
    "#root_data_dir = '.'\n",
    "#output_graphs_dir = 'CRC_graphs'\n",
    "\n",
    "\n",
    "\n",
    "cism = CISM(fanmod_exe=FANMOD_exe,\n",
    "            fanmod_path=FANMOD_path,\n",
    "            network_dataset_root_path=root_data_dir,\n",
    "            fanmod_output_root_path=output_dir,\n",
    "            fanmod_cache_root_path=cache_dir,\n",
    "            motif_size=motif_size,\n",
    "            iterations=iterations)\n",
    "\n",
    "\n",
    "# adding the dataset\n",
    "cism.add_dataset(output_graphs_dir, \n",
    "                 'Disease', \n",
    "                 'CRC', \n",
    "                 force_run_fanmod=False, \n",
    "                 force_parse=False, \n",
    "                 n_jobs=12)"
   ]
  },
  {
   "cell_type": "code",
   "execution_count": 33,
   "id": "7e232eee",
   "metadata": {},
   "outputs": [
    {
     "name": "stdout",
     "output_type": "stream",
     "text": [
      "./CRC_graphs/ [] ['.Patient_18_FOV35.txt', '.Patient_6_FOV11.txt', '.Patient_22_FOV43.txt', '.Patient_9_FOV17.txt', '.Patient_17_FOV33.txt', '.Patient_10_FOV19.txt', '.Patient_32_FOV63.txt', '.Patient_4_FOV7.txt', '.Patient_13_FOV25.txt', '.Patient_23_FOV45.txt', '.Patient_27_FOV54.txt', '.Patient_20_FOV39.txt', '.Patient_33_FOV65.txt', '.Patient_5_FOV9.txt', '.Patient_30_FOV59.txt', '.Patient_12_FOV23.txt', '.Patient_28_FOV55.txt', '.Patient_31_FOV61.txt', '.Patient_16_FOV31.txt', '.Patient_8_FOV15.txt', '.Patient_29_FOV58.txt', '.Patient_2_FOV3.txt', '.Patient_3_FOV5.txt', '.Patient_7_FOV13.txt', '.Patient_19_FOV37.txt', '.Patient_14_FOV27.txt', '.Patient_21_FOV41.txt', '.Patient_15_FOV29.txt', '.Patient_24_FOV47.txt', '.Patient_25_FOV49.txt', '.Patient_11_FOV21.txt', '.Patient_35_FOV69.txt', '.Patient_26_FOV51.txt', '.Patient_34_FOV67.txt', '.Patient_1_FOV1.txt']\n"
     ]
    }
   ],
   "source": [
    "network_dataset_root_path = root_data_dir \n",
    "dataset_folder = output_graphs_dir \n",
    "for r, d, files in os.walk(network_dataset_root_path + dataset_folder):\n",
    "    print(r, d, files)"
   ]
  }
 ],
 "metadata": {
  "kernelspec": {
   "display_name": "CISM",
   "language": "python",
   "name": "python3"
  },
  "language_info": {
   "codemirror_mode": {
    "name": "ipython",
    "version": 3
   },
   "file_extension": ".py",
   "mimetype": "text/x-python",
   "name": "python",
   "nbconvert_exporter": "python",
   "pygments_lexer": "ipython3",
   "version": "3.9.23"
  }
 },
 "nbformat": 4,
 "nbformat_minor": 5
}
