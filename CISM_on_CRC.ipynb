{
 "cells": [
  {
   "cell_type": "code",
   "execution_count": 1,
   "id": "2833442e",
   "metadata": {},
   "outputs": [],
   "source": [
    "import pandas as pd\n",
    "import numpy as np\n",
    "import sys\n",
    "sys.path.append('CISM')  # Replace with the actual path\n",
    "from CISM.cism.graph.create_formatted_graph import GraphBuilder\n",
    "import os"
   ]
  },
  {
   "cell_type": "code",
   "execution_count": 2,
   "id": "99df3c5d",
   "metadata": {},
   "outputs": [],
   "source": [
    "DATA_DIR = '/sise/assafzar-group/assafzar/Datasets'"
   ]
  },
  {
   "cell_type": "code",
   "execution_count": 3,
   "id": "4b2b2ab4",
   "metadata": {},
   "outputs": [],
   "source": [
    "data = pd.read_csv(os.path.join(DATA_DIR, 'CRC_cells.csv'))\n",
    "relevant_columns = [\"cellID\", 'fov','centroid_x', 'centroid_y','class']\n",
    "data = data[relevant_columns]"
   ]
  },
  {
   "cell_type": "code",
   "execution_count": 4,
   "id": "c4cd6387",
   "metadata": {},
   "outputs": [],
   "source": [
    "cell_types = data['class'].unique()\n"
   ]
  },
  {
   "cell_type": "code",
   "execution_count": 5,
   "id": "56f83e6e",
   "metadata": {},
   "outputs": [
    {
     "data": {
      "text/html": [
       "<div>\n",
       "<style scoped>\n",
       "    .dataframe tbody tr th:only-of-type {\n",
       "        vertical-align: middle;\n",
       "    }\n",
       "\n",
       "    .dataframe tbody tr th {\n",
       "        vertical-align: top;\n",
       "    }\n",
       "\n",
       "    .dataframe thead th {\n",
       "        text-align: right;\n",
       "    }\n",
       "</style>\n",
       "<table border=\"1\" class=\"dataframe\">\n",
       "  <thead>\n",
       "    <tr style=\"text-align: right;\">\n",
       "      <th></th>\n",
       "      <th>cellID</th>\n",
       "      <th>fov</th>\n",
       "      <th>centroid_x</th>\n",
       "      <th>centroid_y</th>\n",
       "      <th>class</th>\n",
       "    </tr>\n",
       "  </thead>\n",
       "  <tbody>\n",
       "    <tr>\n",
       "      <th>0</th>\n",
       "      <td>1</td>\n",
       "      <td>P01_A_FOV1</td>\n",
       "      <td>1000.731481</td>\n",
       "      <td>5.657407</td>\n",
       "      <td>Stroma</td>\n",
       "    </tr>\n",
       "    <tr>\n",
       "      <th>1</th>\n",
       "      <td>2</td>\n",
       "      <td>P01_A_FOV1</td>\n",
       "      <td>558.966851</td>\n",
       "      <td>7.392265</td>\n",
       "      <td>Macrophage</td>\n",
       "    </tr>\n",
       "    <tr>\n",
       "      <th>2</th>\n",
       "      <td>3</td>\n",
       "      <td>P01_A_FOV1</td>\n",
       "      <td>1451.308707</td>\n",
       "      <td>7.693931</td>\n",
       "      <td>CD4T</td>\n",
       "    </tr>\n",
       "    <tr>\n",
       "      <th>3</th>\n",
       "      <td>4</td>\n",
       "      <td>P01_A_FOV1</td>\n",
       "      <td>1475.332288</td>\n",
       "      <td>8.376176</td>\n",
       "      <td>Neuron</td>\n",
       "    </tr>\n",
       "    <tr>\n",
       "      <th>4</th>\n",
       "      <td>5</td>\n",
       "      <td>P01_A_FOV1</td>\n",
       "      <td>659.990354</td>\n",
       "      <td>11.832797</td>\n",
       "      <td>Macrophage</td>\n",
       "    </tr>\n",
       "  </tbody>\n",
       "</table>\n",
       "</div>"
      ],
      "text/plain": [
       "   cellID         fov   centroid_x  centroid_y       class\n",
       "0       1  P01_A_FOV1  1000.731481    5.657407      Stroma\n",
       "1       2  P01_A_FOV1   558.966851    7.392265  Macrophage\n",
       "2       3  P01_A_FOV1  1451.308707    7.693931        CD4T\n",
       "3       4  P01_A_FOV1  1475.332288    8.376176      Neuron\n",
       "4       5  P01_A_FOV1   659.990354   11.832797  Macrophage"
      ]
     },
     "execution_count": 5,
     "metadata": {},
     "output_type": "execute_result"
    }
   ],
   "source": [
    "data[relevant_columns].head()"
   ]
  },
  {
   "cell_type": "code",
   "execution_count": 9,
   "id": "eae526a1",
   "metadata": {},
   "outputs": [
    {
     "ename": "TypeError",
     "evalue": "__init__() missing 2 required positional arguments: 'common_cells_mapper' and 'colnames_mapper_dict'",
     "output_type": "error",
     "traceback": [
      "\u001b[0;31m---------------------------------------------------------------------------\u001b[0m",
      "\u001b[0;31mTypeError\u001b[0m                                 Traceback (most recent call last)",
      "Cell \u001b[0;32mIn[9], line 1\u001b[0m\n\u001b[0;32m----> 1\u001b[0m g \u001b[38;5;241m=\u001b[39m \u001b[43mGraphBuilder\u001b[49m\u001b[43m(\u001b[49m\u001b[43mHNN\u001b[49m\u001b[43m)\u001b[49m\n",
      "\u001b[0;31mTypeError\u001b[0m: __init__() missing 2 required positional arguments: 'common_cells_mapper' and 'colnames_mapper_dict'"
     ]
    }
   ],
   "source": [
    "g = GraphBuilder(HNN)"
   ]
  }
 ],
 "metadata": {
  "kernelspec": {
   "display_name": "CISM",
   "language": "python",
   "name": "python3"
  },
  "language_info": {
   "codemirror_mode": {
    "name": "ipython",
    "version": 3
   },
   "file_extension": ".py",
   "mimetype": "text/x-python",
   "name": "python",
   "nbconvert_exporter": "python",
   "pygments_lexer": "ipython3",
   "version": "3.9.23"
  }
 },
 "nbformat": 4,
 "nbformat_minor": 5
}
